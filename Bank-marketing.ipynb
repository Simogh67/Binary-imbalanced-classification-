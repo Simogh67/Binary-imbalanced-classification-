{
 "cells": [
  {
   "cell_type": "code",
   "execution_count": 27,
   "id": "5f21f8c9",
   "metadata": {},
   "outputs": [],
   "source": [
    "# importing necessary Packages\n",
    "import numpy as np\n",
    "import pandas as pd\n",
    "import scipy.stats as stats\n",
    "import statsmodels.stats.api as sms\n",
    "import matplotlib as mpl\n",
    "import plotly.express as pe\n",
    "import matplotlib.pyplot as plt\n",
    "import seaborn as sns\n",
    "from numpy import  mean,std\n",
    "from math import ceil\n",
    "from statsmodels.stats.proportion import proportions_ztest, proportion_confint\n",
    "from statsmodels.stats.weightstats import ztest\n",
    "from scipy.stats import chi2_contingency,levene,shapiro\n",
    "from sklearn.compose import ColumnTransformer\n",
    "from sklearn.preprocessing import OneHotEncoder,Normalizer\n",
    "from statsmodels.stats.outliers_influence import variance_inflation_factor\n",
    "from sklearn.linear_model import LogisticRegression\n",
    "from sklearn.ensemble import RandomForestClassifier,BaggingClassifier\n",
    "from sklearn.model_selection import RepeatedStratifiedKFold,cross_val_score\n",
    "from sklearn.dummy import DummyClassifier\n",
    "from sklearn.neighbors import KNeighborsClassifier\n",
    "from sklearn.metrics import fbeta_score, make_scorer\n",
    "from imblearn.pipeline import Pipeline\n",
    "from imblearn.over_sampling import SMOTE\n",
    "from imblearn.under_sampling import RandomUnderSampler\n",
    "from xgboost import XGBClassifier,XGBRFClassifier"
   ]
  },
  {
   "cell_type": "code",
   "execution_count": 28,
   "id": "89ff2fb5",
   "metadata": {},
   "outputs": [
    {
     "data": {
      "text/html": [
       "<div>\n",
       "<style scoped>\n",
       "    .dataframe tbody tr th:only-of-type {\n",
       "        vertical-align: middle;\n",
       "    }\n",
       "\n",
       "    .dataframe tbody tr th {\n",
       "        vertical-align: top;\n",
       "    }\n",
       "\n",
       "    .dataframe thead th {\n",
       "        text-align: right;\n",
       "    }\n",
       "</style>\n",
       "<table border=\"1\" class=\"dataframe\">\n",
       "  <thead>\n",
       "    <tr style=\"text-align: right;\">\n",
       "      <th></th>\n",
       "      <th>age</th>\n",
       "      <th>job</th>\n",
       "      <th>marital</th>\n",
       "      <th>education</th>\n",
       "      <th>default</th>\n",
       "      <th>balance</th>\n",
       "      <th>housing</th>\n",
       "      <th>loan</th>\n",
       "      <th>contact</th>\n",
       "      <th>day</th>\n",
       "      <th>month</th>\n",
       "      <th>duration</th>\n",
       "      <th>campaign</th>\n",
       "      <th>pdays</th>\n",
       "      <th>previous</th>\n",
       "      <th>poutcome</th>\n",
       "      <th>y</th>\n",
       "    </tr>\n",
       "  </thead>\n",
       "  <tbody>\n",
       "    <tr>\n",
       "      <th>0</th>\n",
       "      <td>58</td>\n",
       "      <td>management</td>\n",
       "      <td>married</td>\n",
       "      <td>tertiary</td>\n",
       "      <td>no</td>\n",
       "      <td>2143</td>\n",
       "      <td>yes</td>\n",
       "      <td>no</td>\n",
       "      <td>unknown</td>\n",
       "      <td>5</td>\n",
       "      <td>may</td>\n",
       "      <td>261</td>\n",
       "      <td>1</td>\n",
       "      <td>-1</td>\n",
       "      <td>0</td>\n",
       "      <td>unknown</td>\n",
       "      <td>no</td>\n",
       "    </tr>\n",
       "    <tr>\n",
       "      <th>1</th>\n",
       "      <td>44</td>\n",
       "      <td>technician</td>\n",
       "      <td>single</td>\n",
       "      <td>secondary</td>\n",
       "      <td>no</td>\n",
       "      <td>29</td>\n",
       "      <td>yes</td>\n",
       "      <td>no</td>\n",
       "      <td>unknown</td>\n",
       "      <td>5</td>\n",
       "      <td>may</td>\n",
       "      <td>151</td>\n",
       "      <td>1</td>\n",
       "      <td>-1</td>\n",
       "      <td>0</td>\n",
       "      <td>unknown</td>\n",
       "      <td>no</td>\n",
       "    </tr>\n",
       "    <tr>\n",
       "      <th>2</th>\n",
       "      <td>33</td>\n",
       "      <td>entrepreneur</td>\n",
       "      <td>married</td>\n",
       "      <td>secondary</td>\n",
       "      <td>no</td>\n",
       "      <td>2</td>\n",
       "      <td>yes</td>\n",
       "      <td>yes</td>\n",
       "      <td>unknown</td>\n",
       "      <td>5</td>\n",
       "      <td>may</td>\n",
       "      <td>76</td>\n",
       "      <td>1</td>\n",
       "      <td>-1</td>\n",
       "      <td>0</td>\n",
       "      <td>unknown</td>\n",
       "      <td>no</td>\n",
       "    </tr>\n",
       "    <tr>\n",
       "      <th>3</th>\n",
       "      <td>47</td>\n",
       "      <td>blue-collar</td>\n",
       "      <td>married</td>\n",
       "      <td>unknown</td>\n",
       "      <td>no</td>\n",
       "      <td>1506</td>\n",
       "      <td>yes</td>\n",
       "      <td>no</td>\n",
       "      <td>unknown</td>\n",
       "      <td>5</td>\n",
       "      <td>may</td>\n",
       "      <td>92</td>\n",
       "      <td>1</td>\n",
       "      <td>-1</td>\n",
       "      <td>0</td>\n",
       "      <td>unknown</td>\n",
       "      <td>no</td>\n",
       "    </tr>\n",
       "    <tr>\n",
       "      <th>4</th>\n",
       "      <td>33</td>\n",
       "      <td>unknown</td>\n",
       "      <td>single</td>\n",
       "      <td>unknown</td>\n",
       "      <td>no</td>\n",
       "      <td>1</td>\n",
       "      <td>no</td>\n",
       "      <td>no</td>\n",
       "      <td>unknown</td>\n",
       "      <td>5</td>\n",
       "      <td>may</td>\n",
       "      <td>198</td>\n",
       "      <td>1</td>\n",
       "      <td>-1</td>\n",
       "      <td>0</td>\n",
       "      <td>unknown</td>\n",
       "      <td>no</td>\n",
       "    </tr>\n",
       "  </tbody>\n",
       "</table>\n",
       "</div>"
      ],
      "text/plain": [
       "   age           job  marital  education default  balance housing loan  \\\n",
       "0   58    management  married   tertiary      no     2143     yes   no   \n",
       "1   44    technician   single  secondary      no       29     yes   no   \n",
       "2   33  entrepreneur  married  secondary      no        2     yes  yes   \n",
       "3   47   blue-collar  married    unknown      no     1506     yes   no   \n",
       "4   33       unknown   single    unknown      no        1      no   no   \n",
       "\n",
       "   contact  day month  duration  campaign  pdays  previous poutcome   y  \n",
       "0  unknown    5   may       261         1     -1         0  unknown  no  \n",
       "1  unknown    5   may       151         1     -1         0  unknown  no  \n",
       "2  unknown    5   may        76         1     -1         0  unknown  no  \n",
       "3  unknown    5   may        92         1     -1         0  unknown  no  \n",
       "4  unknown    5   may       198         1     -1         0  unknown  no  "
      ]
     },
     "execution_count": 28,
     "metadata": {},
     "output_type": "execute_result"
    }
   ],
   "source": [
    "# reading the data \n",
    "df=pd.read_csv('bank.csv',sep=';')\n",
    "df.head()"
   ]
  },
  {
   "cell_type": "code",
   "execution_count": 3,
   "id": "ac4e1453",
   "metadata": {},
   "outputs": [
    {
     "name": "stdout",
     "output_type": "stream",
     "text": [
      "number of customers: 45211\n"
     ]
    }
   ],
   "source": [
    "# number of customers\n",
    "print('number of customers: {}'.format(df.shape[0]))"
   ]
  },
  {
   "cell_type": "markdown",
   "id": "8b0dbb33",
   "metadata": {},
   "source": [
    "#  Data preparation and answering the business questions\n",
    " \n",
    "From our data dictionary, some categorical variables have missing values, i.e. job, education, contact, and outcome of the old marketing campaign. \n",
    "\n",
    "To answer the first three questions, having the current categorical variables with missing values is not an issue. \n",
    "\n",
    "The missing values in the outcome of the old marketing campaign are our only issue. \n",
    "\n",
    "To address this issue, we ignore the rows that contain \"unknown\", and \"other\" in the outcome column.\n",
    "\n",
    "The reason for this is that we need to know the final result of the old campaign, and \"unknown\", and \"other\" do not give us any hint regarding the result of the old campaign."
   ]
  },
  {
   "cell_type": "markdown",
   "id": "f225fb43",
   "metadata": {},
   "source": [
    "### Question 1: did the new campaign perform significantly different (better or worse) than the old one?\n",
    "\n",
    "As we stated before, the dataset contains information about the result of the new marketing campaign for the bank.\n",
    "\n",
    "Moreover, we have the result of the previous marketing campaign via column poutcome. \n",
    "\n",
    "Here, our goal is to evaluate the performance of the new campaign compared to the previous one. \n",
    "\n",
    "To reach this goal, we will perform statistical hypothesis testing. \n",
    "\n",
    "Based on the definition of column pdays, we have some new customers, who were not previously contacted during the previous campaign.\n",
    "\n",
    "The new customers are also detectable via column previous. \n",
    "\n",
    "pdays: the number of days that passed by after the client was last contacted from a previous campaign (numeric, -1 means the client was not previously contacted.\n",
    "\n",
    "Therefore, we build the treatment group based on the new customers.  \n",
    "\n",
    "Let's see the number of new and old users."
   ]
  },
  {
   "cell_type": "code",
   "execution_count": 4,
   "id": "e9744f28",
   "metadata": {},
   "outputs": [
    {
     "data": {
      "text/html": [
       "<div>\n",
       "<style scoped>\n",
       "    .dataframe tbody tr th:only-of-type {\n",
       "        vertical-align: middle;\n",
       "    }\n",
       "\n",
       "    .dataframe tbody tr th {\n",
       "        vertical-align: top;\n",
       "    }\n",
       "\n",
       "    .dataframe thead th {\n",
       "        text-align: right;\n",
       "    }\n",
       "</style>\n",
       "<table border=\"1\" class=\"dataframe\">\n",
       "  <thead>\n",
       "    <tr style=\"text-align: right;\">\n",
       "      <th></th>\n",
       "      <th>number of new customers</th>\n",
       "      <th>number of old customers</th>\n",
       "    </tr>\n",
       "  </thead>\n",
       "  <tbody>\n",
       "    <tr>\n",
       "      <th>0</th>\n",
       "      <td>36954</td>\n",
       "      <td>8257</td>\n",
       "    </tr>\n",
       "  </tbody>\n",
       "</table>\n",
       "</div>"
      ],
      "text/plain": [
       "   number of new customers  number of old customers\n",
       "0                    36954                     8257"
      ]
     },
     "execution_count": 4,
     "metadata": {},
     "output_type": "execute_result"
    }
   ],
   "source": [
    "dic_custoemrs = {'number of new customers': [df[(df['previous'] == 0)].shape[0]], \n",
    "     'number of old customers': [df[(df['previous'] != 0)].shape[0]]}\n",
    "d_customers = pd.DataFrame(data=dic_custoemrs)\n",
    "d_customers.head()"
   ]
  },
  {
   "cell_type": "markdown",
   "id": "f7f567bb",
   "metadata": {},
   "source": [
    "Since in A/B testing, the control group should not be contacted during the new campaign, we build the treatment group by the new customers (36954 individuals), and the control group is built by the old customers (8257 individuals).\n",
    "\n",
    "Next, the control group is built as follows: \n",
    "\n",
    "We add two new columns:\n",
    "\n",
    "Column **group** whose all rows equal control, i.e. determines the instance belongs to the control group. \n",
    "\n",
    "Column **result**, which determines whether the customers said yes to both campaigns or not (1 means yes, 0 means no)."
   ]
  },
  {
   "cell_type": "code",
   "execution_count": 5,
   "id": "56d1e940",
   "metadata": {},
   "outputs": [],
   "source": [
    "class Generator:\n",
    "    \"\"\"This class generates the treatment and control groups\n",
    "         args: dataframe, the main dataframe\n",
    "         returns: dataframe, control and treatment gropus\"\"\"\n",
    "    \n",
    "    def __init__(self, table):\n",
    "        self.table= table\n",
    "        \n",
    "    def control_generator(self):\n",
    "        self.table.loc[:,'group'] = 'control'\n",
    "        self.table.loc[self.table['poutcome']!='success', 'result'] = 0\n",
    "        self.table.loc[self.table['poutcome']=='success', 'result'] = 1\n",
    "        self.df_control = self.table[(self.table['previous'] != 0)&((self.table['poutcome']=='success') |(self.table['poutcome']=='failure'))]\n",
    "        self.table.drop(columns=['result','group'],axis=1, inplace=True)\n",
    "        return self.df_control, self.table\n",
    "    \n",
    "    def treatment_generator(self):\n",
    "        self.table.loc[:,'group'] = 'treatment'\n",
    "        self.table.loc[df['y']=='no', 'result'] = 0\n",
    "        self.table.loc[df['y']=='yes', 'result'] = 1\n",
    "        self.df_treat=df[(df['previous'] == 0)& (df['campaign']>=1)]\n",
    "        self.table.drop(columns=['result','group'],axis=1, inplace=True)\n",
    "        return self.df_treat,self.table"
   ]
  },
  {
   "cell_type": "code",
   "execution_count": 6,
   "id": "3d2d09e4",
   "metadata": {},
   "outputs": [
    {
     "data": {
      "text/html": [
       "<div>\n",
       "<style scoped>\n",
       "    .dataframe tbody tr th:only-of-type {\n",
       "        vertical-align: middle;\n",
       "    }\n",
       "\n",
       "    .dataframe tbody tr th {\n",
       "        vertical-align: top;\n",
       "    }\n",
       "\n",
       "    .dataframe thead th {\n",
       "        text-align: right;\n",
       "    }\n",
       "</style>\n",
       "<table border=\"1\" class=\"dataframe\">\n",
       "  <thead>\n",
       "    <tr style=\"text-align: right;\">\n",
       "      <th></th>\n",
       "      <th>age</th>\n",
       "      <th>job</th>\n",
       "      <th>marital</th>\n",
       "      <th>education</th>\n",
       "      <th>default</th>\n",
       "      <th>balance</th>\n",
       "      <th>housing</th>\n",
       "      <th>loan</th>\n",
       "      <th>contact</th>\n",
       "      <th>day</th>\n",
       "      <th>month</th>\n",
       "      <th>duration</th>\n",
       "      <th>campaign</th>\n",
       "      <th>pdays</th>\n",
       "      <th>previous</th>\n",
       "      <th>poutcome</th>\n",
       "      <th>y</th>\n",
       "      <th>group</th>\n",
       "      <th>result</th>\n",
       "    </tr>\n",
       "  </thead>\n",
       "  <tbody>\n",
       "    <tr>\n",
       "      <th>24060</th>\n",
       "      <td>33</td>\n",
       "      <td>admin.</td>\n",
       "      <td>married</td>\n",
       "      <td>tertiary</td>\n",
       "      <td>no</td>\n",
       "      <td>882</td>\n",
       "      <td>no</td>\n",
       "      <td>no</td>\n",
       "      <td>telephone</td>\n",
       "      <td>21</td>\n",
       "      <td>oct</td>\n",
       "      <td>39</td>\n",
       "      <td>1</td>\n",
       "      <td>151</td>\n",
       "      <td>3</td>\n",
       "      <td>failure</td>\n",
       "      <td>no</td>\n",
       "      <td>control</td>\n",
       "      <td>0.0</td>\n",
       "    </tr>\n",
       "    <tr>\n",
       "      <th>24064</th>\n",
       "      <td>33</td>\n",
       "      <td>services</td>\n",
       "      <td>married</td>\n",
       "      <td>secondary</td>\n",
       "      <td>no</td>\n",
       "      <td>3444</td>\n",
       "      <td>yes</td>\n",
       "      <td>no</td>\n",
       "      <td>telephone</td>\n",
       "      <td>21</td>\n",
       "      <td>oct</td>\n",
       "      <td>144</td>\n",
       "      <td>1</td>\n",
       "      <td>91</td>\n",
       "      <td>4</td>\n",
       "      <td>failure</td>\n",
       "      <td>yes</td>\n",
       "      <td>control</td>\n",
       "      <td>0.0</td>\n",
       "    </tr>\n",
       "    <tr>\n",
       "      <th>24077</th>\n",
       "      <td>36</td>\n",
       "      <td>management</td>\n",
       "      <td>married</td>\n",
       "      <td>tertiary</td>\n",
       "      <td>no</td>\n",
       "      <td>0</td>\n",
       "      <td>yes</td>\n",
       "      <td>no</td>\n",
       "      <td>telephone</td>\n",
       "      <td>23</td>\n",
       "      <td>oct</td>\n",
       "      <td>140</td>\n",
       "      <td>1</td>\n",
       "      <td>143</td>\n",
       "      <td>3</td>\n",
       "      <td>failure</td>\n",
       "      <td>yes</td>\n",
       "      <td>control</td>\n",
       "      <td>0.0</td>\n",
       "    </tr>\n",
       "    <tr>\n",
       "      <th>24080</th>\n",
       "      <td>56</td>\n",
       "      <td>technician</td>\n",
       "      <td>married</td>\n",
       "      <td>secondary</td>\n",
       "      <td>no</td>\n",
       "      <td>589</td>\n",
       "      <td>yes</td>\n",
       "      <td>no</td>\n",
       "      <td>unknown</td>\n",
       "      <td>23</td>\n",
       "      <td>oct</td>\n",
       "      <td>518</td>\n",
       "      <td>1</td>\n",
       "      <td>147</td>\n",
       "      <td>2</td>\n",
       "      <td>success</td>\n",
       "      <td>yes</td>\n",
       "      <td>control</td>\n",
       "      <td>1.0</td>\n",
       "    </tr>\n",
       "    <tr>\n",
       "      <th>24127</th>\n",
       "      <td>51</td>\n",
       "      <td>admin.</td>\n",
       "      <td>single</td>\n",
       "      <td>secondary</td>\n",
       "      <td>no</td>\n",
       "      <td>3132</td>\n",
       "      <td>no</td>\n",
       "      <td>no</td>\n",
       "      <td>telephone</td>\n",
       "      <td>5</td>\n",
       "      <td>nov</td>\n",
       "      <td>449</td>\n",
       "      <td>1</td>\n",
       "      <td>176</td>\n",
       "      <td>1</td>\n",
       "      <td>failure</td>\n",
       "      <td>no</td>\n",
       "      <td>control</td>\n",
       "      <td>0.0</td>\n",
       "    </tr>\n",
       "  </tbody>\n",
       "</table>\n",
       "</div>"
      ],
      "text/plain": [
       "       age         job  marital  education default  balance housing loan  \\\n",
       "24060   33      admin.  married   tertiary      no      882      no   no   \n",
       "24064   33    services  married  secondary      no     3444     yes   no   \n",
       "24077   36  management  married   tertiary      no        0     yes   no   \n",
       "24080   56  technician  married  secondary      no      589     yes   no   \n",
       "24127   51      admin.   single  secondary      no     3132      no   no   \n",
       "\n",
       "         contact  day month  duration  campaign  pdays  previous poutcome  \\\n",
       "24060  telephone   21   oct        39         1    151         3  failure   \n",
       "24064  telephone   21   oct       144         1     91         4  failure   \n",
       "24077  telephone   23   oct       140         1    143         3  failure   \n",
       "24080    unknown   23   oct       518         1    147         2  success   \n",
       "24127  telephone    5   nov       449         1    176         1  failure   \n",
       "\n",
       "         y    group  result  \n",
       "24060   no  control     0.0  \n",
       "24064  yes  control     0.0  \n",
       "24077  yes  control     0.0  \n",
       "24080  yes  control     1.0  \n",
       "24127   no  control     0.0  "
      ]
     },
     "execution_count": 6,
     "metadata": {},
     "output_type": "execute_result"
    }
   ],
   "source": [
    "# generating the control group \n",
    "item=Generator(df)\n",
    "df_control,df=item.control_generator()\n",
    "df_control.head()"
   ]
  },
  {
   "cell_type": "markdown",
   "id": "49d67927",
   "metadata": {},
   "source": [
    "Next, we build the treatment group via the new customers."
   ]
  },
  {
   "cell_type": "code",
   "execution_count": 7,
   "id": "ae5692c2",
   "metadata": {},
   "outputs": [
    {
     "data": {
      "text/html": [
       "<div>\n",
       "<style scoped>\n",
       "    .dataframe tbody tr th:only-of-type {\n",
       "        vertical-align: middle;\n",
       "    }\n",
       "\n",
       "    .dataframe tbody tr th {\n",
       "        vertical-align: top;\n",
       "    }\n",
       "\n",
       "    .dataframe thead th {\n",
       "        text-align: right;\n",
       "    }\n",
       "</style>\n",
       "<table border=\"1\" class=\"dataframe\">\n",
       "  <thead>\n",
       "    <tr style=\"text-align: right;\">\n",
       "      <th></th>\n",
       "      <th>age</th>\n",
       "      <th>job</th>\n",
       "      <th>marital</th>\n",
       "      <th>education</th>\n",
       "      <th>default</th>\n",
       "      <th>balance</th>\n",
       "      <th>housing</th>\n",
       "      <th>loan</th>\n",
       "      <th>contact</th>\n",
       "      <th>day</th>\n",
       "      <th>month</th>\n",
       "      <th>duration</th>\n",
       "      <th>campaign</th>\n",
       "      <th>pdays</th>\n",
       "      <th>previous</th>\n",
       "      <th>poutcome</th>\n",
       "      <th>y</th>\n",
       "      <th>group</th>\n",
       "      <th>result</th>\n",
       "    </tr>\n",
       "  </thead>\n",
       "  <tbody>\n",
       "    <tr>\n",
       "      <th>0</th>\n",
       "      <td>58</td>\n",
       "      <td>management</td>\n",
       "      <td>married</td>\n",
       "      <td>tertiary</td>\n",
       "      <td>no</td>\n",
       "      <td>2143</td>\n",
       "      <td>yes</td>\n",
       "      <td>no</td>\n",
       "      <td>unknown</td>\n",
       "      <td>5</td>\n",
       "      <td>may</td>\n",
       "      <td>261</td>\n",
       "      <td>1</td>\n",
       "      <td>-1</td>\n",
       "      <td>0</td>\n",
       "      <td>unknown</td>\n",
       "      <td>no</td>\n",
       "      <td>treatment</td>\n",
       "      <td>0.0</td>\n",
       "    </tr>\n",
       "    <tr>\n",
       "      <th>1</th>\n",
       "      <td>44</td>\n",
       "      <td>technician</td>\n",
       "      <td>single</td>\n",
       "      <td>secondary</td>\n",
       "      <td>no</td>\n",
       "      <td>29</td>\n",
       "      <td>yes</td>\n",
       "      <td>no</td>\n",
       "      <td>unknown</td>\n",
       "      <td>5</td>\n",
       "      <td>may</td>\n",
       "      <td>151</td>\n",
       "      <td>1</td>\n",
       "      <td>-1</td>\n",
       "      <td>0</td>\n",
       "      <td>unknown</td>\n",
       "      <td>no</td>\n",
       "      <td>treatment</td>\n",
       "      <td>0.0</td>\n",
       "    </tr>\n",
       "    <tr>\n",
       "      <th>2</th>\n",
       "      <td>33</td>\n",
       "      <td>entrepreneur</td>\n",
       "      <td>married</td>\n",
       "      <td>secondary</td>\n",
       "      <td>no</td>\n",
       "      <td>2</td>\n",
       "      <td>yes</td>\n",
       "      <td>yes</td>\n",
       "      <td>unknown</td>\n",
       "      <td>5</td>\n",
       "      <td>may</td>\n",
       "      <td>76</td>\n",
       "      <td>1</td>\n",
       "      <td>-1</td>\n",
       "      <td>0</td>\n",
       "      <td>unknown</td>\n",
       "      <td>no</td>\n",
       "      <td>treatment</td>\n",
       "      <td>0.0</td>\n",
       "    </tr>\n",
       "    <tr>\n",
       "      <th>3</th>\n",
       "      <td>47</td>\n",
       "      <td>blue-collar</td>\n",
       "      <td>married</td>\n",
       "      <td>unknown</td>\n",
       "      <td>no</td>\n",
       "      <td>1506</td>\n",
       "      <td>yes</td>\n",
       "      <td>no</td>\n",
       "      <td>unknown</td>\n",
       "      <td>5</td>\n",
       "      <td>may</td>\n",
       "      <td>92</td>\n",
       "      <td>1</td>\n",
       "      <td>-1</td>\n",
       "      <td>0</td>\n",
       "      <td>unknown</td>\n",
       "      <td>no</td>\n",
       "      <td>treatment</td>\n",
       "      <td>0.0</td>\n",
       "    </tr>\n",
       "    <tr>\n",
       "      <th>4</th>\n",
       "      <td>33</td>\n",
       "      <td>unknown</td>\n",
       "      <td>single</td>\n",
       "      <td>unknown</td>\n",
       "      <td>no</td>\n",
       "      <td>1</td>\n",
       "      <td>no</td>\n",
       "      <td>no</td>\n",
       "      <td>unknown</td>\n",
       "      <td>5</td>\n",
       "      <td>may</td>\n",
       "      <td>198</td>\n",
       "      <td>1</td>\n",
       "      <td>-1</td>\n",
       "      <td>0</td>\n",
       "      <td>unknown</td>\n",
       "      <td>no</td>\n",
       "      <td>treatment</td>\n",
       "      <td>0.0</td>\n",
       "    </tr>\n",
       "  </tbody>\n",
       "</table>\n",
       "</div>"
      ],
      "text/plain": [
       "   age           job  marital  education default  balance housing loan  \\\n",
       "0   58    management  married   tertiary      no     2143     yes   no   \n",
       "1   44    technician   single  secondary      no       29     yes   no   \n",
       "2   33  entrepreneur  married  secondary      no        2     yes  yes   \n",
       "3   47   blue-collar  married    unknown      no     1506     yes   no   \n",
       "4   33       unknown   single    unknown      no        1      no   no   \n",
       "\n",
       "   contact  day month  duration  campaign  pdays  previous poutcome   y  \\\n",
       "0  unknown    5   may       261         1     -1         0  unknown  no   \n",
       "1  unknown    5   may       151         1     -1         0  unknown  no   \n",
       "2  unknown    5   may        76         1     -1         0  unknown  no   \n",
       "3  unknown    5   may        92         1     -1         0  unknown  no   \n",
       "4  unknown    5   may       198         1     -1         0  unknown  no   \n",
       "\n",
       "       group  result  \n",
       "0  treatment     0.0  \n",
       "1  treatment     0.0  \n",
       "2  treatment     0.0  \n",
       "3  treatment     0.0  \n",
       "4  treatment     0.0  "
      ]
     },
     "execution_count": 7,
     "metadata": {},
     "output_type": "execute_result"
    }
   ],
   "source": [
    "# generating the treatment group \n",
    "df_treat,df=item.treatment_generator()\n",
    "df_treat.head()"
   ]
  },
  {
   "cell_type": "markdown",
   "id": "0f0ff614",
   "metadata": {},
   "source": [
    "### Evaluation metric:\n",
    "\n",
    "Our metric to compare the results of the campaigns is conversion rate, which determines that\n",
    "what portion of the customers said yes to the campaign.\n",
    "\n",
    "The conversion rate of the old campaign can be represented as follows:"
   ]
  },
  {
   "cell_type": "code",
   "execution_count": 8,
   "id": "379b1f7a",
   "metadata": {},
   "outputs": [
    {
     "name": "stdout",
     "output_type": "stream",
     "text": [
      "conversion rate of the old campaign: 0.236\n"
     ]
    }
   ],
   "source": [
    "conversion_rate=df_control[df_control.poutcome=='success'].shape[0]/(df_control[df_control.poutcome=='success'].shape[0]\n",
    "                                                               +df_control[df_control.poutcome=='failure'].shape[0])\n",
    "print(\"conversion rate of the old campaign: {0:.3f}\".format(conversion_rate))"
   ]
  },
  {
   "cell_type": "markdown",
   "id": "fb178ded",
   "metadata": {},
   "source": [
    "Next, we obtain the sample size to perform the A/B testing via power analysis.\n",
    "\n",
    "We assume that our expectation is that the new campaign increases the conversion rate from 23.6% to 26.6%.\n",
    "\n",
    "Library Statsmodels is used to determine the sample size.\n",
    "\n",
    "**Please note that our significance level for all statistical tests is 0.05.**"
   ]
  },
  {
   "cell_type": "code",
   "execution_count": 9,
   "id": "25445559",
   "metadata": {},
   "outputs": [
    {
     "name": "stdout",
     "output_type": "stream",
     "text": [
      "required number of samples:3277\n"
     ]
    }
   ],
   "source": [
    "effect_size = sms.proportion_effectsize(0.236, 0.266)\n",
    "\n",
    "required_n = sms.NormalIndPower().solve_power(\n",
    "    effect_size, \n",
    "    power=0.8, \n",
    "    alpha=0.05, \n",
    "    ratio=1\n",
    "    )                           \n",
    "print(\"required number of samples:{}\".format(ceil(required_n)))"
   ]
  },
  {
   "cell_type": "markdown",
   "id": "9c982d57",
   "metadata": {},
   "source": [
    "We need at least 3277 samples. Thus, we choose 3500 samples randomly."
   ]
  },
  {
   "cell_type": "code",
   "execution_count": 11,
   "id": "adc104fb",
   "metadata": {},
   "outputs": [],
   "source": [
    "control_sample = df_control.sample(n=3500, random_state=42)\n",
    "treatment_sample =df_treat.sample(n=3500, random_state=42)"
   ]
  },
  {
   "cell_type": "markdown",
   "id": "48f49045",
   "metadata": {},
   "source": [
    "First, we concatenate both control and treatment samples to perform our A/B testing. "
   ]
  },
  {
   "cell_type": "code",
   "execution_count": 12,
   "id": "784b7ae2",
   "metadata": {},
   "outputs": [
    {
     "data": {
      "text/html": [
       "<div>\n",
       "<style scoped>\n",
       "    .dataframe tbody tr th:only-of-type {\n",
       "        vertical-align: middle;\n",
       "    }\n",
       "\n",
       "    .dataframe tbody tr th {\n",
       "        vertical-align: top;\n",
       "    }\n",
       "\n",
       "    .dataframe thead th {\n",
       "        text-align: right;\n",
       "    }\n",
       "</style>\n",
       "<table border=\"1\" class=\"dataframe\">\n",
       "  <thead>\n",
       "    <tr style=\"text-align: right;\">\n",
       "      <th></th>\n",
       "      <th>age</th>\n",
       "      <th>job</th>\n",
       "      <th>marital</th>\n",
       "      <th>education</th>\n",
       "      <th>default</th>\n",
       "      <th>balance</th>\n",
       "      <th>housing</th>\n",
       "      <th>loan</th>\n",
       "      <th>contact</th>\n",
       "      <th>day</th>\n",
       "      <th>month</th>\n",
       "      <th>duration</th>\n",
       "      <th>campaign</th>\n",
       "      <th>pdays</th>\n",
       "      <th>previous</th>\n",
       "      <th>group</th>\n",
       "      <th>result</th>\n",
       "    </tr>\n",
       "  </thead>\n",
       "  <tbody>\n",
       "    <tr>\n",
       "      <th>6995</th>\n",
       "      <td>30</td>\n",
       "      <td>blue-collar</td>\n",
       "      <td>married</td>\n",
       "      <td>primary</td>\n",
       "      <td>no</td>\n",
       "      <td>70</td>\n",
       "      <td>yes</td>\n",
       "      <td>yes</td>\n",
       "      <td>unknown</td>\n",
       "      <td>8</td>\n",
       "      <td>may</td>\n",
       "      <td>461</td>\n",
       "      <td>3</td>\n",
       "      <td>-1</td>\n",
       "      <td>0</td>\n",
       "      <td>treatment</td>\n",
       "      <td>0.0</td>\n",
       "    </tr>\n",
       "    <tr>\n",
       "      <th>6996</th>\n",
       "      <td>42</td>\n",
       "      <td>services</td>\n",
       "      <td>married</td>\n",
       "      <td>secondary</td>\n",
       "      <td>no</td>\n",
       "      <td>1263</td>\n",
       "      <td>yes</td>\n",
       "      <td>no</td>\n",
       "      <td>unknown</td>\n",
       "      <td>6</td>\n",
       "      <td>may</td>\n",
       "      <td>114</td>\n",
       "      <td>2</td>\n",
       "      <td>-1</td>\n",
       "      <td>0</td>\n",
       "      <td>treatment</td>\n",
       "      <td>0.0</td>\n",
       "    </tr>\n",
       "    <tr>\n",
       "      <th>6997</th>\n",
       "      <td>38</td>\n",
       "      <td>management</td>\n",
       "      <td>married</td>\n",
       "      <td>tertiary</td>\n",
       "      <td>no</td>\n",
       "      <td>516</td>\n",
       "      <td>yes</td>\n",
       "      <td>no</td>\n",
       "      <td>telephone</td>\n",
       "      <td>16</td>\n",
       "      <td>apr</td>\n",
       "      <td>198</td>\n",
       "      <td>3</td>\n",
       "      <td>-1</td>\n",
       "      <td>0</td>\n",
       "      <td>treatment</td>\n",
       "      <td>0.0</td>\n",
       "    </tr>\n",
       "    <tr>\n",
       "      <th>6998</th>\n",
       "      <td>39</td>\n",
       "      <td>entrepreneur</td>\n",
       "      <td>married</td>\n",
       "      <td>tertiary</td>\n",
       "      <td>no</td>\n",
       "      <td>0</td>\n",
       "      <td>yes</td>\n",
       "      <td>no</td>\n",
       "      <td>cellular</td>\n",
       "      <td>14</td>\n",
       "      <td>jul</td>\n",
       "      <td>111</td>\n",
       "      <td>2</td>\n",
       "      <td>-1</td>\n",
       "      <td>0</td>\n",
       "      <td>treatment</td>\n",
       "      <td>0.0</td>\n",
       "    </tr>\n",
       "    <tr>\n",
       "      <th>6999</th>\n",
       "      <td>36</td>\n",
       "      <td>self-employed</td>\n",
       "      <td>single</td>\n",
       "      <td>tertiary</td>\n",
       "      <td>no</td>\n",
       "      <td>-103</td>\n",
       "      <td>yes</td>\n",
       "      <td>yes</td>\n",
       "      <td>telephone</td>\n",
       "      <td>17</td>\n",
       "      <td>oct</td>\n",
       "      <td>3253</td>\n",
       "      <td>1</td>\n",
       "      <td>-1</td>\n",
       "      <td>0</td>\n",
       "      <td>treatment</td>\n",
       "      <td>1.0</td>\n",
       "    </tr>\n",
       "  </tbody>\n",
       "</table>\n",
       "</div>"
      ],
      "text/plain": [
       "      age            job  marital  education default  balance housing loan  \\\n",
       "6995   30    blue-collar  married    primary      no       70     yes  yes   \n",
       "6996   42       services  married  secondary      no     1263     yes   no   \n",
       "6997   38     management  married   tertiary      no      516     yes   no   \n",
       "6998   39   entrepreneur  married   tertiary      no        0     yes   no   \n",
       "6999   36  self-employed   single   tertiary      no     -103     yes  yes   \n",
       "\n",
       "        contact  day month  duration  campaign  pdays  previous      group  \\\n",
       "6995    unknown    8   may       461         3     -1         0  treatment   \n",
       "6996    unknown    6   may       114         2     -1         0  treatment   \n",
       "6997  telephone   16   apr       198         3     -1         0  treatment   \n",
       "6998   cellular   14   jul       111         2     -1         0  treatment   \n",
       "6999  telephone   17   oct      3253         1     -1         0  treatment   \n",
       "\n",
       "      result  \n",
       "6995     0.0  \n",
       "6996     0.0  \n",
       "6997     0.0  \n",
       "6998     0.0  \n",
       "6999     1.0  "
      ]
     },
     "execution_count": 12,
     "metadata": {},
     "output_type": "execute_result"
    }
   ],
   "source": [
    "df_test = pd.concat([control_sample, treatment_sample], axis=0)\n",
    "df_test.reset_index(drop=True, inplace=True)\n",
    "df_test.drop(columns=['poutcome','y'],axis=1, inplace=True)\n",
    "df_test.tail()"
   ]
  },
  {
   "cell_type": "code",
   "execution_count": 13,
   "id": "2413ff4e",
   "metadata": {},
   "outputs": [
    {
     "data": {
      "text/html": [
       "<style type=\"text/css\">\n",
       "</style>\n",
       "<table id=\"T_f771d\">\n",
       "  <thead>\n",
       "    <tr>\n",
       "      <th class=\"blank level0\" >&nbsp;</th>\n",
       "      <th id=\"T_f771d_level0_col0\" class=\"col_heading level0 col0\" >conversion_rate</th>\n",
       "      <th id=\"T_f771d_level0_col1\" class=\"col_heading level0 col1\" >std_deviation</th>\n",
       "      <th id=\"T_f771d_level0_col2\" class=\"col_heading level0 col2\" >std_error</th>\n",
       "    </tr>\n",
       "    <tr>\n",
       "      <th class=\"index_name level0\" >group</th>\n",
       "      <th class=\"blank col0\" >&nbsp;</th>\n",
       "      <th class=\"blank col1\" >&nbsp;</th>\n",
       "      <th class=\"blank col2\" >&nbsp;</th>\n",
       "    </tr>\n",
       "  </thead>\n",
       "  <tbody>\n",
       "    <tr>\n",
       "      <th id=\"T_f771d_level0_row0\" class=\"row_heading level0 row0\" >control</th>\n",
       "      <td id=\"T_f771d_row0_col0\" class=\"data row0 col0\" >0.245</td>\n",
       "      <td id=\"T_f771d_row0_col1\" class=\"data row0 col1\" >0.430</td>\n",
       "      <td id=\"T_f771d_row0_col2\" class=\"data row0 col2\" >0.007</td>\n",
       "    </tr>\n",
       "    <tr>\n",
       "      <th id=\"T_f771d_level0_row1\" class=\"row_heading level0 row1\" >treatment</th>\n",
       "      <td id=\"T_f771d_row1_col0\" class=\"data row1 col0\" >0.089</td>\n",
       "      <td id=\"T_f771d_row1_col1\" class=\"data row1 col1\" >0.285</td>\n",
       "      <td id=\"T_f771d_row1_col2\" class=\"data row1 col2\" >0.005</td>\n",
       "    </tr>\n",
       "  </tbody>\n",
       "</table>\n"
      ],
      "text/plain": [
       "<pandas.io.formats.style.Styler at 0x25e8960c100>"
      ]
     },
     "execution_count": 13,
     "metadata": {},
     "output_type": "execute_result"
    }
   ],
   "source": [
    "conversion_rates = df_test.groupby('group')['result']\n",
    "\n",
    "std_p = lambda x: np.std(x, ddof=0)              # Std. deviation of the proportion\n",
    "se_p = lambda x: stats.sem(x, ddof=0)            # Std. error of the proportion (std / sqrt(n))\n",
    "\n",
    "conversion_rates = conversion_rates.agg([np.mean, std_p, se_p])\n",
    "conversion_rates.columns = ['conversion_rate', 'std_deviation', 'std_error']\n",
    "\n",
    "\n",
    "conversion_rates.style.format('{:.3f}')"
   ]
  },
  {
   "cell_type": "markdown",
   "id": "ae4544b1",
   "metadata": {},
   "source": [
    "From the above table, the conversion rate of the old campaign is noticeably higher than the new one.\n",
    "\n",
    "Therefore, the new campaign was not successful.\n",
    "\n",
    "To answer the question **is this difference statistically significant?**, we will leverage the z-test.\n",
    "\n",
    "But, before that, we need to define a class that contains all required statistical tests."
   ]
  },
  {
   "cell_type": "code",
   "execution_count": 14,
   "id": "a6a1e7e9",
   "metadata": {},
   "outputs": [],
   "source": [
    "class tests:\n",
    "    \"\"\"This class applies required statistical tests to implement statistical hypothesis testing\n",
    "         args: x: a specific column of the control group, y: a specific column of the treatment group\n",
    "         return: the result of the test\"\"\"\n",
    "    \n",
    "    def __init__(self, x,y):\n",
    "        self.x= x\n",
    "        self.y=y\n",
    "    \n",
    "    def levene_test(self):\n",
    "        p_value=levene(self.x, self.y)[1]\n",
    "        print(\"levene p-value: {0:.3f}\".format(p_value))\n",
    "        if p_value < 0.05:\n",
    "            print('Reject null hypothesis:  the variance between groups is not equal ')\n",
    "        else:\n",
    "             print('Fail to reject the null hypothesis: the groups have equal variance')\n",
    "                \n",
    "    def z_test(self):\n",
    "        p_value=ztest(self.x, self.y, value=0) [1]\n",
    "        print(\"z test p-value: {0:.3f}\".format(p_value))\n",
    "        if p_value < 0.05:\n",
    "            print('Reject null hypothesis: the difference between the groups is statistically significant')\n",
    "        else:\n",
    "             print('Fail to reject the null hypothesis: the difference between the groups is statistically insignificant')\n",
    "    \n",
    "    def mann_Whitney_test(self):\n",
    "        man_val=stats.mannwhitneyu(self.x, self.y, alternative = 'two-sided')[1]\n",
    "        print(\"Mann-Whitney p-value criterion: {0:.3f}\".format(man_val))\n",
    "        if man_val < 0.05:\n",
    "            print('Reject null hypothesis: the difference between the groups is statistically significant')\n",
    "        else:\n",
    "             print('Fail to reject the null hypothesis: the difference between the groups is statistically insignificant')\n",
    "    \n",
    "    def chi_Square_test(self):\n",
    "        p_value=chi2_contingency(self.x)[1]\n",
    "        print(\"Chi-Square test p-value: {0:.3f}\".format(p_value))\n",
    "        if p_value < 0.05:\n",
    "             print('Reject null hypothesis: the difference between the groups is statistically significant')\n",
    "        else:\n",
    "             print('Fail to reject the null hypothesis: the difference between the groups is statistically insignificant')\n",
    "    \n",
    "    def welch_test(self):\n",
    "        man_val=stats.ttest_ind(self.x, self.y, equal_var=False)[1]\n",
    "        print(\"Mann-Whitney p-value criterion: {0:.3f}\".format(man_val))\n",
    "        if man_val < 0.05:\n",
    "            print('Reject null hypothesis: the difference between the groups is statistically significant')\n",
    "        else:\n",
    "             print('Fail to reject the null hypothesis: the difference between the groups is statistically insignificant')"
   ]
  },
  {
   "cell_type": "markdown",
   "id": "2bd15b5d",
   "metadata": {},
   "source": [
    "Now, we apply our A/B testing: "
   ]
  },
  {
   "cell_type": "code",
   "execution_count": 15,
   "id": "17761330",
   "metadata": {},
   "outputs": [
    {
     "name": "stdout",
     "output_type": "stream",
     "text": [
      "z statistic: 17.50\n",
      "p value: 0.000\n"
     ]
    }
   ],
   "source": [
    "control_results = df_test[df_test['group'] == 'control']['result']\n",
    "treatment_results = df_test[df_test['group'] == 'treatment']['result']\n",
    "n_con = control_results.count()\n",
    "n_treat = treatment_results.count()\n",
    "successes = [control_results.sum(), treatment_results.sum()]\n",
    "nobs = [n_con, n_treat]\n",
    "\n",
    "z_stat, pval = proportions_ztest(successes, nobs=nobs)\n",
    "(lower_con, lower_treat), (upper_con, upper_treat) = proportion_confint(successes, nobs=nobs, alpha=0.05)\n",
    "\n",
    "print(\"z statistic: {0:.2f}\".format(z_stat))\n",
    "print(\"p value: {0:.3f}\".format(pval))"
   ]
  },
  {
   "cell_type": "code",
   "execution_count": 16,
   "id": "ed62603c",
   "metadata": {},
   "outputs": [
    {
     "name": "stdout",
     "output_type": "stream",
     "text": [
      "Mann-Whitney p-value criterion: 0.000\n",
      "Reject null hypothesis: the difference between the groups is statistically significant\n"
     ]
    }
   ],
   "source": [
    "item=tests(control_results, treatment_results)\n",
    "item.mann_Whitney_test()"
   ]
  },
  {
   "cell_type": "markdown",
   "id": "166cfd6c",
   "metadata": {},
   "source": [
    "**Answer to question 1: Both tests show that the difference between the results of both campaigns is significant as expected.**\n",
    "\n",
    "**In fact, the old campaign was more successful than the new one.**"
   ]
  },
  {
   "cell_type": "markdown",
   "id": "5876cea4",
   "metadata": {},
   "source": [
    "### Is there any bias between the new and old campaigns?"
   ]
  },
  {
   "cell_type": "markdown",
   "id": "451f9ad2",
   "metadata": {},
   "source": [
    "To identify biases, the question to ask is whether there are variables that are not constant across the groups of the population. biases are also variables that can affect the outcome of the experiment.\n",
    "\n",
    "To identify biases, we leverage statistical tests, i.e, the z-test, Chi-Square test, Levene's test, and the Mann-Whitney U test.\n",
    "\n",
    "As the first variable, we consider the number of calls during two campaigns because it can affect our result.\n",
    "\n",
    "One can say that multiple calls may change customers' opinions. To this end, we plot the following figure:"
   ]
  },
  {
   "cell_type": "code",
   "execution_count": 17,
   "id": "d9ce7a79",
   "metadata": {},
   "outputs": [],
   "source": [
    "class Plot:\n",
    "    \"\"\"This class plots required histograms and box-plots\n",
    "         args: X: dataframe, control group, \n",
    "               Y: dataframe, treatment group,\n",
    "               col_1: a specific column of control group,\n",
    "               col_2: a specific column of treatment group,\n",
    "               v_control:binary, a variable that controls which columns\n",
    "                             of X and Y should be included in the box-plot\n",
    "         returns: histogram and box-plot figures\"\"\"\n",
    "    \n",
    "    def __init__(self, X,Y,col_1,col_2,X_col,Y_col,v_control):\n",
    "        self.X= X\n",
    "        self.Y=Y\n",
    "        self.col_1=col_1\n",
    "        self.col_2=col_2\n",
    "        self.X_col=X_col\n",
    "        self.Y_col=Y_col\n",
    "        self.v_control=v_control\n",
    "        \n",
    "    def plot(self):\n",
    "        fig, axes = plt.subplots(1, 4, figsize = (18,5))\n",
    "        self.X.hist(self.col_1, ax = axes[0], color = \"steelblue\")\n",
    "        self.Y.hist(self.col_2, ax = axes[1], color = \"steelblue\")\n",
    "        if self.v_control==0:\n",
    "            sns.boxplot(x = self.X.group, y = self.X_col, ax = axes[2])\n",
    "            sns.boxplot(x = self.Y.group, y = self.Y_col, ax = axes[3])\n",
    "        else:\n",
    "            sns.boxplot(x = self.X.y, y = self.X_col, ax = axes[2])\n",
    "            sns.boxplot(x = self.Y.y, y = self.Y_col, ax = axes[3])\n",
    "        axes[0].set_title(\" the previous campaign\", fontsize = 15)\n",
    "        axes[1].set_title(\" the new campaign\", fontsize = 15)\n",
    "        axes[2].set_title(\" the previous campaign\", fontsize = 15)\n",
    "        axes[3].set_title(\" the new campaign\", fontsize = 15)\n",
    "        plt.tight_layout(pad = 4)"
   ]
  },
  {
   "cell_type": "code",
   "execution_count": 18,
   "id": "44d47516",
   "metadata": {},
   "outputs": [
    {
     "data": {
      "image/png": "[encoded data removed]",
      "text/plain": [
       "<Figure size 1296x360 with 4 Axes>"
      ]
     },
     "metadata": {
      "needs_background": "light"
     },
     "output_type": "display_data"
    }
   ],
   "source": [
    "item=Plot(control_sample,treatment_sample,'previous','campaign',control_sample.previous,treatment_sample.campaign,0)\n",
    "item.plot()"
   ]
  },
  {
   "cell_type": "markdown",
   "id": "b0dd35bf",
   "metadata": {},
   "source": [
    "based on the box plot of the calls during the old campaign, there is an anomaly.\n",
    "\n",
    "First, we should remove it. "
   ]
  },
  {
   "cell_type": "code",
   "execution_count": 19,
   "id": "fa78d89c",
   "metadata": {},
   "outputs": [],
   "source": [
    "control_sample = control_sample[control_sample.previous < control_sample.previous.max()]"
   ]
  },
  {
   "cell_type": "code",
   "execution_count": 20,
   "id": "1c5e85e9",
   "metadata": {},
   "outputs": [
    {
     "data": {
      "image/png": "[encoded data removed]",
      "text/plain": [
       "<Figure size 1296x360 with 4 Axes>"
      ]
     },
     "metadata": {
      "needs_background": "light"
     },
     "output_type": "display_data"
    }
   ],
   "source": [
    "item=Plot(control_sample,treatment_sample,'previous','campaign',control_sample.previous,treatment_sample.campaign,0)\n",
    "item.plot()"
   ]
  },
  {
   "cell_type": "markdown",
   "id": "585f4798",
   "metadata": {},
   "source": [
    "Now, both box plots are ok.\n",
    "\n",
    "From the histograms of both campaigns, roughly, calls are normally distributed.\n",
    "\n",
    "Next, we use Levene's test to determine whether variance between groups is equal or not.\n",
    "\n",
    "If the test can not reject the null hypothesis, we will use the z-test to detect any statistical difference between groups."
   ]
  },
  {
   "cell_type": "code",
   "execution_count": 21,
   "id": "97867762",
   "metadata": {},
   "outputs": [
    {
     "name": "stdout",
     "output_type": "stream",
     "text": [
      "levene p-value: 0.761\n",
      "Fail to reject the null hypothesis: the groups have equal variance\n"
     ]
    }
   ],
   "source": [
    "item=tests(control_sample['previous'], treatment_sample['campaign'])\n",
    "item.levene_test()"
   ]
  },
  {
   "cell_type": "code",
   "execution_count": 22,
   "id": "85878840",
   "metadata": {},
   "outputs": [
    {
     "name": "stdout",
     "output_type": "stream",
     "text": [
      "z test p-value: 0.210\n",
      "Fail to reject the null hypothesis: the difference between the groups is statistically insignificant\n"
     ]
    }
   ],
   "source": [
    "item.z_test()"
   ]
  },
  {
   "cell_type": "markdown",
   "id": "2a121f1d",
   "metadata": {},
   "source": [
    "The difference in the number of calls between the groups is not statistically significant.\n",
    "\n",
    "Consequently, the number of calls is not a bias.\n",
    "\n",
    "Next, we test variable age."
   ]
  },
  {
   "cell_type": "code",
   "execution_count": 23,
   "id": "afc9f09b",
   "metadata": {},
   "outputs": [
    {
     "data": {
      "image/png": "[encoded data removed]",
      "text/plain": [
       "<Figure size 1296x360 with 4 Axes>"
      ]
     },
     "metadata": {
      "needs_background": "light"
     },
     "output_type": "display_data"
    }
   ],
   "source": [
    "item=Plot(control_sample,treatment_sample,'age','age',control_sample.age,treatment_sample.age,0)\n",
    "item.plot()"
   ]
  },
  {
   "cell_type": "markdown",
   "id": "639137e5",
   "metadata": {},
   "source": [
    "The histograms of both groups show some skewness, but roughly we accept that age is normally distributed. \n",
    "\n",
    "However, we also apply the Mann-Whitney U test, which is a non-parametric test, since our assumption about age distribution may not be realistic.\n",
    "\n",
    "Next, we use Levene's test to determine whether variance between groups is equal or not. \n",
    "\n",
    "If the test can not reject the null hypothesis, we will use the z-test to detect any statistical difference between groups."
   ]
  },
  {
   "cell_type": "code",
   "execution_count": 24,
   "id": "92bfb93d",
   "metadata": {},
   "outputs": [
    {
     "name": "stdout",
     "output_type": "stream",
     "text": [
      "levene p-value: 0.093\n",
      "Fail to reject the null hypothesis: the groups have equal variance\n"
     ]
    }
   ],
   "source": [
    "item=tests(control_sample['age'], treatment_sample['age'])\n",
    "item.levene_test()"
   ]
  },
  {
   "cell_type": "code",
   "execution_count": 25,
   "id": "44d86af0",
   "metadata": {},
   "outputs": [
    {
     "name": "stdout",
     "output_type": "stream",
     "text": [
      "z test p-value: 0.244\n",
      "Fail to reject the null hypothesis: the difference between the groups is statistically insignificant\n"
     ]
    }
   ],
   "source": [
    "item.z_test()"
   ]
  },
  {
   "cell_type": "code",
   "execution_count": 26,
   "id": "99eb477b",
   "metadata": {},
   "outputs": [
    {
     "name": "stdout",
     "output_type": "stream",
     "text": [
      "Mann-Whitney p-value criterion: 0.919\n",
      "Fail to reject the null hypothesis: the difference between the groups is statistically insignificant\n"
     ]
    }
   ],
   "source": [
    "item.mann_Whitney_test()"
   ]
  },
  {
   "cell_type": "markdown",
   "id": "81b37ff2",
   "metadata": {},
   "source": [
    "According to both tests, age is not a bias.\n",
    "\n",
    "Next, we test variables having housing loan and personal loan.\n",
    "\n",
    "Since both variables are categorical, we use the Chi-Square test to identify any statistical difference.\n",
    "\n",
    "Please note that we assume that variables having housing loans and personal loan for both campaigns are the same.\n",
    "\n",
    "We use the following function to generate the required contingency tables."
   ]
  },
  {
   "cell_type": "code",
   "execution_count": 27,
   "id": "f78adf31",
   "metadata": {},
   "outputs": [],
   "source": [
    "def contingency_generator(treatment_sample,control_sample,name):\n",
    "    d_table=[[treatment_sample[treatment_sample[name]=='no'].shape[0],\n",
    "             treatment_sample[treatment_sample[name]=='yes'].shape[0]],\n",
    "            [control_sample[control_sample[name]=='no'].shape[0],\n",
    "             control_sample[control_sample[name]=='yes'].shape[0]]]\n",
    "    return d_table"
   ]
  },
  {
   "cell_type": "code",
   "execution_count": 28,
   "id": "fc0d5bb0",
   "metadata": {},
   "outputs": [],
   "source": [
    "d_personal_loan=contingency_generator(treatment_sample,control_sample,'loan')\n",
    "d_housing=contingency_generator(treatment_sample,control_sample,'housing')"
   ]
  },
  {
   "cell_type": "code",
   "execution_count": 30,
   "id": "c49848ac",
   "metadata": {},
   "outputs": [
    {
     "name": "stdout",
     "output_type": "stream",
     "text": [
      "Chi-Square test p-value: 0.011\n",
      "Reject null hypothesis: the difference between the groups is statistically significant\n"
     ]
    }
   ],
   "source": [
    "item=tests(d_personal_loan,None)\n",
    "item.chi_Square_test()"
   ]
  },
  {
   "cell_type": "code",
   "execution_count": 147,
   "id": "57b73c64",
   "metadata": {},
   "outputs": [
    {
     "name": "stdout",
     "output_type": "stream",
     "text": [
      "Chi-Square test p-value: 0.000\n",
      "Reject null hypothesis: the difference between the groups is statistically significant\n"
     ]
    }
   ],
   "source": [
    "item=tests(d_housing,None)\n",
    "item.chi_Square_test()"
   ]
  },
  {
   "cell_type": "markdown",
   "id": "b398b46b",
   "metadata": {},
   "source": [
    "The Chi-Square test shows that the difference between groups in terms of having housing and personal loans is significant. \n",
    "\n",
    "Thus, these variables can be a bias."
   ]
  },
  {
   "cell_type": "markdown",
   "id": "a52db040",
   "metadata": {},
   "source": [
    "**Answer to question 2: It seems that there is a bias between two campaigns in terms of having housing and personal loans.**"
   ]
  },
  {
   "cell_type": "markdown",
   "id": "34857177",
   "metadata": {},
   "source": [
    "### Question 3: to increase the conversion rate of future campaigns, which variables are important?"
   ]
  },
  {
   "cell_type": "markdown",
   "id": "f80c3390",
   "metadata": {},
   "source": [
    "The new campaign was not successful. Now, we try to identify variables that could be important for the success of future marketing campaigns.\n",
    "\n",
    "To do this, we use the data related to the new marketing campaign.\n",
    "\n",
    "First, we split the data into two groups, i.e., people who said yes to the campaign and people who said no. \n",
    "\n",
    "For the group of people who said no we should do sampling since only 9% of people said yes to the campaign.  \n",
    "\n",
    "The average yearly balance is the first variable that we consider.  \n",
    "\n",
    "Here, **the question is whether the amount of the average yearly balance and subscribing to the bank term deposit are related to each other?**\n",
    "\n",
    "Since the average yearly balance is continuous and our sample size is large we will leverage the z-test or Welch's t-test to answer the question."
   ]
  },
  {
   "cell_type": "code",
   "execution_count": 66,
   "id": "0738dfe5",
   "metadata": {},
   "outputs": [],
   "source": [
    "df_success = df[df['y']=='yes'] \n",
    "df_fail = df[df['y']=='no'] \n",
    "df_fail=df_fail.sample(n=df_success.shape[0], random_state=42)"
   ]
  },
  {
   "cell_type": "code",
   "execution_count": 32,
   "id": "f407548a",
   "metadata": {},
   "outputs": [
    {
     "data": {
      "image/png": "[encoded data removed]",
      "text/plain": [
       "<Figure size 1296x360 with 4 Axes>"
      ]
     },
     "metadata": {
      "needs_background": "light"
     },
     "output_type": "display_data"
    }
   ],
   "source": [
    "item=Plot(df_success,df_fail,'balance','balance',df_success.balance,df_fail.balance,1)\n",
    "item.plot()"
   ]
  },
  {
   "cell_type": "markdown",
   "id": "bb5db639",
   "metadata": {},
   "source": [
    "Based on the box plots of both groups, there are some anomalies. \n",
    "\n",
    "First, we remove those anomalies. "
   ]
  },
  {
   "cell_type": "code",
   "execution_count": 33,
   "id": "6cf74d87",
   "metadata": {},
   "outputs": [],
   "source": [
    "df_success = df_success[df_success.balance < df_success.balance.max()]\n",
    "df_fail = df_fail[df_fail.balance < df_fail.balance.max()]"
   ]
  },
  {
   "cell_type": "code",
   "execution_count": 34,
   "id": "c18b97e5",
   "metadata": {},
   "outputs": [
    {
     "data": {
      "image/png": "[encoded data removed]",
      "text/plain": [
       "<Figure size 1296x360 with 4 Axes>"
      ]
     },
     "metadata": {
      "needs_background": "light"
     },
     "output_type": "display_data"
    }
   ],
   "source": [
    "item=Plot(df_success,df_fail,'balance','balance',df_success.balance,df_fail.balance,1)\n",
    "item.plot()"
   ]
  },
  {
   "cell_type": "markdown",
   "id": "2821d5eb",
   "metadata": {},
   "source": [
    "Now, two box plots are ok.\n",
    "\n",
    "For the next step, we test whether both groups have equal variance or not. "
   ]
  },
  {
   "cell_type": "code",
   "execution_count": 35,
   "id": "56a02bfa",
   "metadata": {},
   "outputs": [
    {
     "name": "stdout",
     "output_type": "stream",
     "text": [
      "levene p-value: 0.000\n",
      "Reject null hypothesis:  the variance between groups is not equal \n"
     ]
    }
   ],
   "source": [
    "item=tests(df_success['balance'], df_fail['balance'])\n",
    "item.levene_test()"
   ]
  },
  {
   "cell_type": "markdown",
   "id": "2eb8e5a7",
   "metadata": {},
   "source": [
    "From the histograms of both groups, roughly, the balance of customers is normally distributed.\n",
    "\n",
    "The variance between groups is not equal, thus, we should use Welch's t-test.\n",
    "\n",
    "We also try the Mann-Whitney test."
   ]
  },
  {
   "cell_type": "code",
   "execution_count": 36,
   "id": "624f0f61",
   "metadata": {},
   "outputs": [
    {
     "name": "stdout",
     "output_type": "stream",
     "text": [
      "Mann-Whitney p-value criterion: 0.000\n",
      "Reject null hypothesis: the difference between the groups is statistically significant\n"
     ]
    }
   ],
   "source": [
    "item=tests(df_success['balance'], df_fail['balance'])\n",
    "item.welch_test()"
   ]
  },
  {
   "cell_type": "code",
   "execution_count": 37,
   "id": "4c050a93",
   "metadata": {},
   "outputs": [
    {
     "name": "stdout",
     "output_type": "stream",
     "text": [
      "Mann-Whitney p-value criterion: 0.000\n",
      "Reject null hypothesis: the difference between the groups is statistically significant\n"
     ]
    }
   ],
   "source": [
    "item.mann_Whitney_test()"
   ]
  },
  {
   "cell_type": "markdown",
   "id": "c585a61f",
   "metadata": {},
   "source": [
    "Both statistical tests show that the average yearly balance is an important variable, and should be considered in the future campaign.\n",
    "\n",
    "We dig into this variable to draw some insight.\n",
    "\n",
    "We split up the customers into four different groups\n",
    "\n",
    "Negative: their balance is negative\n",
    "\n",
    "Low: their balance is positive but less than 500 euros\n",
    "\n",
    "Medium: Balance between 500 and 2000 euros\n",
    "\n",
    "High: Balance higher than 2000 euros\n",
    "\n",
    "Then, we try to answer the question of the level of customers' balance and subscribing to the bank term deposit related to each other?\n",
    "\n",
    "Before this, we define the following class to generate the required dataframes."
   ]
  },
  {
   "cell_type": "code",
   "execution_count": 67,
   "id": "76c9dd7d",
   "metadata": {},
   "outputs": [],
   "source": [
    "class table_generator():\n",
    "    \n",
    "    \"\"\"This class generates balance, housing, and education tables\n",
    "          args: df_success: a dataframe represents the successful cases in the new campaign\n",
    "                  df_fail: a dataframe represents the unsuccessful cases in the new campaign\n",
    "         return: the required tables\"\"\"\n",
    "    \n",
    "    def __init__(self, df_success,df_fail):\n",
    "        self.df_success= df_success\n",
    "        self.df_fail=df_fail\n",
    "    \n",
    "    def balance(self):    \n",
    "        df_s_negative=self.df_success[(self.df_success['balance'] < 0)]\n",
    "        df_s_low=self.df_success[(self.df_success['balance'] > 0)& (self.df_success['balance']<=500)]\n",
    "        df_s_medium=self.df_success[(self.df_success['balance'] > 500)& (self.df_success['balance']<2000)]\n",
    "        df_s_high=self.df_success[(self.df_success['balance']>=2000)]\n",
    "\n",
    "        df_f_negative=self.df_fail[(self.df_fail['balance'] < 0)]\n",
    "        df_f_low=self.df_fail[(self.df_fail['balance'] > 0)& (self.df_fail['balance']<=500)]\n",
    "        df_f_medium=self.df_fail[(self.df_fail['balance'] > 500)& (self.df_fail['balance']<2000)]\n",
    "        df_f_high=self.df_fail[(self.df_fail['balance']>=2000)]\n",
    "    \n",
    "        d_balance=[[df_f_negative.shape[0], df_s_negative.shape[0]],\n",
    "            [df_f_low.shape[0], df_s_low.shape[0]],\n",
    "             [df_f_medium.shape[0], df_s_medium.shape[0]],\n",
    "            [df_f_high.shape[0], df_s_high.shape[0]]]\n",
    "    \n",
    "        data_dict = {'accept bank offer': [df_s_negative.shape[0], df_s_low.shape[0],\n",
    "                  df_s_medium.shape[0], df_s_high.shape[0]],\n",
    "                  'reject bank offer': [df_f_negative.shape[0], df_f_low.shape[0],\n",
    "                   df_f_medium.shape[0], df_f_high.shape[0]]}\n",
    "        df_balance = pd.DataFrame(data_dict, index=['negative balance','low balance','medium balance','high balance'])\n",
    "    \n",
    "        return d_balance,df_balance\n",
    "    \n",
    "    def education(self):\n",
    "        d_education=[[self.df_success[self.df_success['education']==\"primary\"].shape[0], self.df_fail[self.df_fail['education']==\"primary\"].shape[0]],\n",
    "                   [self.df_success[self.df_success['education']==\"secondary\"].shape[0], self.df_fail[self.df_fail['education']==\"secondary\"].shape[0]],\n",
    "               [df_success[df_success['education']==\"tertiary\"].shape[0],\n",
    "                  df_fail[df_fail['education']==\"tertiary\"].shape[0]]]\n",
    "        \n",
    "        data_dict = {'accept bank offer': [df_success[df_success['education']==\"primary\"].shape[0], df_success[df_success['education']==\"secondary\"].shape[0],\n",
    "                df_success[df_success['education']==\"tertiary\"].shape[0]],\n",
    "        'reject bank offer': [df_fail[df_fail['education']==\"primary\"].shape[0], df_fail[df_fail['education']==\"secondary\"].shape[0],\n",
    "               df_fail[df_fail['education']==\"tertiary\"].shape[0]]}\n",
    "        df_education = pd.DataFrame(data_dict, index=['primary','secondary','tertiary'])\n",
    "        \n",
    "        return d_education,df_education \n",
    "    \n",
    "    def housing_loan(self):\n",
    "        d_loan=[[self.df_success[self.df_success['housing']==\"yes\"].shape[0], self.df_fail[self.df_fail['housing']==\"yes\"].shape[0]],\n",
    "                      [self.df_success[self.df_success['housing']==\"no\"].shape[0], self.df_fail[self.df_fail['housing']==\"no\"].shape[0]]]\n",
    "        data_dict = {'accept bank offer': [df_success[df_success['housing']==\"yes\"].shape[0],df_success[df_success['housing']==\"no\"].shape[0]],\n",
    "               'reject bank offer': [df_fail[df_fail['housing']==\"yes\"].shape[0], df_fail[df_fail['housing']==\"no\"].shape[0]]}\n",
    "        df_loan = pd.DataFrame(data_dict, index=['have loan','without loan'])\n",
    "        return d_loan,df_loan"
   ]
  },
  {
   "cell_type": "code",
   "execution_count": 68,
   "id": "5b4e46f4",
   "metadata": {},
   "outputs": [],
   "source": [
    "item=table_generator(df_success,df_fail)\n",
    "d_balance,df_balance=item.balance()"
   ]
  },
  {
   "cell_type": "markdown",
   "id": "9b5b9608",
   "metadata": {},
   "source": [
    "Since the level of customers' balance is a categorical variable, we use the Chi-Square test to answer the question"
   ]
  },
  {
   "cell_type": "code",
   "execution_count": 40,
   "id": "3f83da7f",
   "metadata": {},
   "outputs": [
    {
     "name": "stdout",
     "output_type": "stream",
     "text": [
      "Chi-Square test p-value: 0.000\n",
      "Reject null hypothesis: the difference between the groups is statistically significant\n"
     ]
    }
   ],
   "source": [
    "item=tests(d_balance,None)\n",
    "item.chi_Square_test()"
   ]
  },
  {
   "cell_type": "code",
   "execution_count": 69,
   "id": "cd1a17b1",
   "metadata": {
    "scrolled": true
   },
   "outputs": [
    {
     "data": {
      "text/html": [
       "<div>\n",
       "<style scoped>\n",
       "    .dataframe tbody tr th:only-of-type {\n",
       "        vertical-align: middle;\n",
       "    }\n",
       "\n",
       "    .dataframe tbody tr th {\n",
       "        vertical-align: top;\n",
       "    }\n",
       "\n",
       "    .dataframe thead th {\n",
       "        text-align: right;\n",
       "    }\n",
       "</style>\n",
       "<table border=\"1\" class=\"dataframe\">\n",
       "  <thead>\n",
       "    <tr style=\"text-align: right;\">\n",
       "      <th></th>\n",
       "      <th>accept bank offer</th>\n",
       "      <th>reject bank offer</th>\n",
       "    </tr>\n",
       "  </thead>\n",
       "  <tbody>\n",
       "    <tr>\n",
       "      <th>negative balance</th>\n",
       "      <td>210</td>\n",
       "      <td>488</td>\n",
       "    </tr>\n",
       "    <tr>\n",
       "      <th>low balance</th>\n",
       "      <td>1680</td>\n",
       "      <td>1967</td>\n",
       "    </tr>\n",
       "    <tr>\n",
       "      <th>medium balance</th>\n",
       "      <td>1698</td>\n",
       "      <td>1507</td>\n",
       "    </tr>\n",
       "    <tr>\n",
       "      <th>high balance</th>\n",
       "      <td>1409</td>\n",
       "      <td>914</td>\n",
       "    </tr>\n",
       "  </tbody>\n",
       "</table>\n",
       "</div>"
      ],
      "text/plain": [
       "                  accept bank offer  reject bank offer\n",
       "negative balance                210                488\n",
       "low balance                    1680               1967\n",
       "medium balance                 1698               1507\n",
       "high balance                   1409                914"
      ]
     },
     "execution_count": 69,
     "metadata": {},
     "output_type": "execute_result"
    }
   ],
   "source": [
    "df_balance"
   ]
  },
  {
   "cell_type": "markdown",
   "id": "0560b015",
   "metadata": {},
   "source": [
    "From the test and above table, customers with higher levels of balance are willing to accept the bank offers more than customers with lower levels of balance\n",
    "\n",
    "Consequently, we should focus more on customers with a higher level of balance for future campaigns.\n",
    "\n",
    "The next variable is age.\n",
    "\n",
    "Here, the question is whether age and subscribing to the bank term deposit are related to each other?\n",
    "\n",
    "Again, since age is continuous and our sample size is large we will leverage the z-test or Welch's t-test, or the Mann-Whitney test to answer the question."
   ]
  },
  {
   "cell_type": "code",
   "execution_count": 42,
   "id": "84295373",
   "metadata": {},
   "outputs": [
    {
     "data": {
      "image/png": "[encoded data removed]",
      "text/plain": [
       "<Figure size 1296x360 with 4 Axes>"
      ]
     },
     "metadata": {
      "needs_background": "light"
     },
     "output_type": "display_data"
    }
   ],
   "source": [
    "item=Plot(df_success,df_fail,'age','age',df_success.age,df_fail.age,1)\n",
    "item.plot()"
   ]
  },
  {
   "cell_type": "markdown",
   "id": "4eb6b3ad",
   "metadata": {},
   "source": [
    "According to both histograms, age does not seem to be normally distributed in both groups. \n",
    "\n",
    "Thus, we try the Mann-Whitney test."
   ]
  },
  {
   "cell_type": "code",
   "execution_count": 43,
   "id": "eef8c8a8",
   "metadata": {},
   "outputs": [
    {
     "name": "stdout",
     "output_type": "stream",
     "text": [
      "Mann-Whitney p-value criterion: 0.526\n",
      "Fail to reject the null hypothesis: the difference between the groups is statistically insignificant\n"
     ]
    }
   ],
   "source": [
    "item=tests(df_success['age'], df_fail['age'])\n",
    "item.mann_Whitney_test()"
   ]
  },
  {
   "cell_type": "markdown",
   "id": "9f07b868",
   "metadata": {},
   "source": [
    "The Mann-Whitney test concludes that the difference between the groups is not statistically significant. \n",
    "\n",
    "**Consequently, probably, age is not an important variable.**\n",
    "\n",
    "The next variable is the number of calls, which can be important.\n",
    "\n",
    "If we talk with our customers multiple times, maybe he/she gets interested or vice versa. \n",
    "\n",
    "**Question: number of calls and subscribing to the bank term deposit are related to each other**\n",
    "\n",
    "Again, since the number of calls is continuous and our sample size is large we will leverage the z-test or Welch's t-test to answer the question."
   ]
  },
  {
   "cell_type": "code",
   "execution_count": 44,
   "id": "ea7cdcea",
   "metadata": {},
   "outputs": [
    {
     "data": {
      "image/png": "[encoded data removed]",
      "text/plain": [
       "<Figure size 1296x360 with 4 Axes>"
      ]
     },
     "metadata": {
      "needs_background": "light"
     },
     "output_type": "display_data"
    }
   ],
   "source": [
    "item=Plot(df_success,df_fail,'campaign','campaign',df_success.campaign,df_fail.campaign,1)\n",
    "item.plot()"
   ]
  },
  {
   "cell_type": "markdown",
   "id": "29da2908",
   "metadata": {},
   "source": [
    "We remove the anomaly existed in the group of people who said no. "
   ]
  },
  {
   "cell_type": "code",
   "execution_count": 45,
   "id": "bf9d48cb",
   "metadata": {},
   "outputs": [],
   "source": [
    "df_fail = df_fail[df_fail.campaign < df_fail.campaign.max()]"
   ]
  },
  {
   "cell_type": "code",
   "execution_count": 46,
   "id": "25cab75d",
   "metadata": {},
   "outputs": [
    {
     "data": {
      "image/png": "[encoded data removed]",
      "text/plain": [
       "<Figure size 1296x360 with 4 Axes>"
      ]
     },
     "metadata": {
      "needs_background": "light"
     },
     "output_type": "display_data"
    }
   ],
   "source": [
    "item=Plot(df_success,df_fail,'campaign','campaign',df_success.campaign,df_fail.campaign,1)\n",
    "item.plot()"
   ]
  },
  {
   "cell_type": "markdown",
   "id": "154a8828",
   "metadata": {},
   "source": [
    "Box plots are ok, now, we apply our tests."
   ]
  },
  {
   "cell_type": "code",
   "execution_count": 47,
   "id": "e01c4e5c",
   "metadata": {},
   "outputs": [
    {
     "name": "stdout",
     "output_type": "stream",
     "text": [
      "levene p-value: 0.000\n",
      "Reject null hypothesis:  the variance between groups is not equal \n"
     ]
    }
   ],
   "source": [
    "item=tests(df_success['campaign'], df_fail['campaign'])\n",
    "item.levene_test()"
   ]
  },
  {
   "cell_type": "code",
   "execution_count": 48,
   "id": "0ceb5b1c",
   "metadata": {},
   "outputs": [
    {
     "name": "stdout",
     "output_type": "stream",
     "text": [
      "Mann-Whitney p-value criterion: 0.000\n",
      "Reject null hypothesis: the difference between the groups is statistically significant\n"
     ]
    }
   ],
   "source": [
    "item.welch_test()"
   ]
  },
  {
   "cell_type": "code",
   "execution_count": 49,
   "id": "df46ae45",
   "metadata": {},
   "outputs": [
    {
     "name": "stdout",
     "output_type": "stream",
     "text": [
      "Mann-Whitney p-value criterion: 0.000\n",
      "Reject null hypothesis: the difference between the groups is statistically significant\n"
     ]
    }
   ],
   "source": [
    "item.mann_Whitney_test()"
   ]
  },
  {
   "cell_type": "markdown",
   "id": "f377edf3",
   "metadata": {},
   "source": [
    "Both tests show that number of calls may affect willingness to subscribe to the bank term deposit.\n",
    "\n",
    "Therefore, we should consider optimization of this term for future marketing.\n",
    "\n",
    "The next question is **whether the level of education/ having a housing loan and subscribing to the bank term deposit are related to each other?**\n",
    "\n",
    "Since all of the above terms are categorical, we use the Chi-Square test to answer the question."
   ]
  },
  {
   "cell_type": "code",
   "execution_count": 50,
   "id": "86192183",
   "metadata": {},
   "outputs": [],
   "source": [
    "item=table_generator(df_success,df_fail)\n",
    "d_education,df_education=item.education()"
   ]
  },
  {
   "cell_type": "code",
   "execution_count": 51,
   "id": "ffa5ee41",
   "metadata": {},
   "outputs": [
    {
     "name": "stdout",
     "output_type": "stream",
     "text": [
      "Chi-Square test p-value: 0.000\n",
      "Reject null hypothesis: the difference between the groups is statistically significant\n"
     ]
    }
   ],
   "source": [
    "item=tests(d_education, None)\n",
    "item.chi_Square_test()"
   ]
  },
  {
   "cell_type": "code",
   "execution_count": 52,
   "id": "96eac43c",
   "metadata": {},
   "outputs": [
    {
     "data": {
      "text/html": [
       "<div>\n",
       "<style scoped>\n",
       "    .dataframe tbody tr th:only-of-type {\n",
       "        vertical-align: middle;\n",
       "    }\n",
       "\n",
       "    .dataframe tbody tr th {\n",
       "        vertical-align: top;\n",
       "    }\n",
       "\n",
       "    .dataframe thead th {\n",
       "        text-align: right;\n",
       "    }\n",
       "</style>\n",
       "<table border=\"1\" class=\"dataframe\">\n",
       "  <thead>\n",
       "    <tr style=\"text-align: right;\">\n",
       "      <th></th>\n",
       "      <th>accept bank offer</th>\n",
       "      <th>reject bank offer</th>\n",
       "    </tr>\n",
       "  </thead>\n",
       "  <tbody>\n",
       "    <tr>\n",
       "      <th>primary</th>\n",
       "      <td>591</td>\n",
       "      <td>847</td>\n",
       "    </tr>\n",
       "    <tr>\n",
       "      <th>secondary</th>\n",
       "      <td>2448</td>\n",
       "      <td>2765</td>\n",
       "    </tr>\n",
       "    <tr>\n",
       "      <th>tertiary</th>\n",
       "      <td>1996</td>\n",
       "      <td>1469</td>\n",
       "    </tr>\n",
       "  </tbody>\n",
       "</table>\n",
       "</div>"
      ],
      "text/plain": [
       "           accept bank offer  reject bank offer\n",
       "primary                  591                847\n",
       "secondary               2448               2765\n",
       "tertiary                1996               1469"
      ]
     },
     "execution_count": 52,
     "metadata": {},
     "output_type": "execute_result"
    }
   ],
   "source": [
    "df_education"
   ]
  },
  {
   "cell_type": "markdown",
   "id": "ec5a1969",
   "metadata": {},
   "source": [
    "Our Chi-Square test shows that the level of education is an important variable.\n",
    "\n",
    "**We can observe that people with higher education accepted the bank offers more than people with lower levels of education.** \n",
    "\n",
    "**Consequently, we should focus more on people with higher education in future marketing campaigns.**\n",
    "\n",
    "Having a housing loan is the next variable."
   ]
  },
  {
   "cell_type": "code",
   "execution_count": 53,
   "id": "d3c41511",
   "metadata": {},
   "outputs": [],
   "source": [
    "item=table_generator(df_success,df_fail)\n",
    "d_loan,df_loan=item.housing_loan()"
   ]
  },
  {
   "cell_type": "code",
   "execution_count": 54,
   "id": "0d514c0a",
   "metadata": {},
   "outputs": [
    {
     "name": "stdout",
     "output_type": "stream",
     "text": [
      "Chi-Square test p-value: 0.000\n",
      "Reject null hypothesis: the difference between the groups is statistically significant\n"
     ]
    }
   ],
   "source": [
    "item=tests(d_loan, None)\n",
    "item.chi_Square_test()"
   ]
  },
  {
   "cell_type": "code",
   "execution_count": 55,
   "id": "bd68c1d2",
   "metadata": {},
   "outputs": [
    {
     "data": {
      "text/html": [
       "<div>\n",
       "<style scoped>\n",
       "    .dataframe tbody tr th:only-of-type {\n",
       "        vertical-align: middle;\n",
       "    }\n",
       "\n",
       "    .dataframe tbody tr th {\n",
       "        vertical-align: top;\n",
       "    }\n",
       "\n",
       "    .dataframe thead th {\n",
       "        text-align: right;\n",
       "    }\n",
       "</style>\n",
       "<table border=\"1\" class=\"dataframe\">\n",
       "  <thead>\n",
       "    <tr style=\"text-align: right;\">\n",
       "      <th></th>\n",
       "      <th>accept bank offer</th>\n",
       "      <th>reject bank offer</th>\n",
       "    </tr>\n",
       "  </thead>\n",
       "  <tbody>\n",
       "    <tr>\n",
       "      <th>have loan</th>\n",
       "      <td>1935</td>\n",
       "      <td>3061</td>\n",
       "    </tr>\n",
       "    <tr>\n",
       "      <th>without loan</th>\n",
       "      <td>3352</td>\n",
       "      <td>2226</td>\n",
       "    </tr>\n",
       "  </tbody>\n",
       "</table>\n",
       "</div>"
      ],
      "text/plain": [
       "              accept bank offer  reject bank offer\n",
       "have loan                  1935               3061\n",
       "without loan               3352               2226"
      ]
     },
     "execution_count": 55,
     "metadata": {},
     "output_type": "execute_result"
    }
   ],
   "source": [
    "df_loan"
   ]
  },
  {
   "cell_type": "markdown",
   "id": "3dc35f95",
   "metadata": {},
   "source": [
    "Our Chi-Square test shows that having housing loan is an important variable.\n",
    "\n",
    "We can observe that people without housing loan accepted the bank offers more than people with housing loan.\n",
    "\n",
    "Consequently, we should focus more on people without housing loan in future marketing campaigns."
   ]
  },
  {
   "cell_type": "markdown",
   "id": "446bec25",
   "metadata": {},
   "source": [
    "**Answer to question 3: It seems that having housing loan, the level of education, and the number of calls should be considered in future campaigns.**"
   ]
  },
  {
   "cell_type": "markdown",
   "id": "550ae638",
   "metadata": {},
   "source": [
    "### Question 4: Can we use the data for future customers' behavior prediction?"
   ]
  },
  {
   "cell_type": "markdown",
   "id": "23dc1065",
   "metadata": {},
   "source": [
    "In this section, we assess that if our available data is suitable to predict future customers' behavior or not.\n",
    "\n",
    "To this end, we need to apply some data processing.\n",
    "\n",
    "First, we remove unrelated columns to the goal, i.e., previous, pdays, duration, month, day, contact, defualt, and poutcome.\n",
    "\n",
    "columns previous, pdays, and poutcome related to the previous campaign.\n",
    "\n",
    "Since, only 1% of the customers have credit default, this column is irrelevant. \n",
    "\n",
    "Since, the customers were contacted only via phone, this column is also irrelevant.\n",
    "\n",
    "Finally, columns month, day, and duration are only related to the last call; thus, they have no information about the whole procedure. Hence, we remove them."
   ]
  },
  {
   "cell_type": "code",
   "execution_count": 29,
   "id": "18cedceb",
   "metadata": {},
   "outputs": [],
   "source": [
    "df = df.drop(columns=['contact', 'day','default','pdays','previous'],axis=1)"
   ]
  },
  {
   "cell_type": "markdown",
   "id": "6a1496f5",
   "metadata": {},
   "source": [
    "We have some unknown values in columns job and education.\n",
    "let's see how many entries of them are unknown. "
   ]
  },
  {
   "cell_type": "code",
   "execution_count": 30,
   "id": "76902985",
   "metadata": {},
   "outputs": [
    {
     "name": "stdout",
     "output_type": "stream",
     "text": [
      "percantage of unknown values in column job:0.006370131162770122\n"
     ]
    }
   ],
   "source": [
    "print('percantage of unknown values in column job:{}'.format(df[df.job=='unknown'].shape[0]/df.shape[0]))"
   ]
  },
  {
   "cell_type": "code",
   "execution_count": 31,
   "id": "b5798bad",
   "metadata": {},
   "outputs": [
    {
     "name": "stdout",
     "output_type": "stream",
     "text": [
      "percantage of unknown values in column education:0.04107407489327818\n"
     ]
    }
   ],
   "source": [
    "print('percantage of unknown values in column education:{}'.format(df[df.education=='unknown'].shape[0]/df.shape[0]))"
   ]
  },
  {
   "cell_type": "markdown",
   "id": "458a4f6e",
   "metadata": {},
   "source": [
    "Since the number of unknown values in columns job and education is not significant, we remove them. "
   ]
  },
  {
   "cell_type": "code",
   "execution_count": 32,
   "id": "9c402f5f",
   "metadata": {},
   "outputs": [],
   "source": [
    "df.drop(df.index[df['poutcome']=='unknown'], inplace=True)\n",
    "df.drop(df.index[df['poutcome']=='other'], inplace=True)\n",
    "df.drop(df.index[df['job']=='unknown'], inplace=True)\n",
    "df.drop(df.index[df['education']=='unknown'], inplace=True)"
   ]
  },
  {
   "cell_type": "markdown",
   "id": "8b5f7f23",
   "metadata": {},
   "source": [
    "The column goal in this section is column y. Thus, we separate it from the dataframe.\n",
    "\n",
    "Before, applying some classification algorithms, we need to use one-hot encoding for categorical columns, and normalize our numeric columns. "
   ]
  },
  {
   "cell_type": "code",
   "execution_count": 33,
   "id": "088bf3bc",
   "metadata": {},
   "outputs": [],
   "source": [
    "# seperating column default from the dataset\n",
    "y=df['y']\n",
    "df=df.drop(columns='y')"
   ]
  },
  {
   "cell_type": "code",
   "execution_count": 34,
   "id": "24ddefe8",
   "metadata": {},
   "outputs": [],
   "source": [
    "# select categorical and numerical features+ one-hot encosing+ normalized the numerical columns\n",
    "cat_ind = df.select_dtypes(include=['object']).columns\n",
    "num_ind = df.select_dtypes(include=['int64']).columns\n",
    "ct = ColumnTransformer([('o',OneHotEncoder(drop='first'),cat_ind),('n',Normalizer(),num_ind)])"
   ]
  },
  {
   "cell_type": "code",
   "execution_count": 35,
   "id": "abdd7ab4",
   "metadata": {},
   "outputs": [],
   "source": [
    "# the matrix contains features\n",
    "X = (ct.fit_transform(df))\n",
    "X=X.toarray()"
   ]
  },
  {
   "cell_type": "code",
   "execution_count": 36,
   "id": "f7b1cef7",
   "metadata": {},
   "outputs": [],
   "source": [
    "# making the binary targets \n",
    "y=y.to_numpy()\n",
    "y=np.where(y == 'no', 0, 1)"
   ]
  },
  {
   "cell_type": "code",
   "execution_count": 37,
   "id": "f3d90087",
   "metadata": {},
   "outputs": [
    {
     "name": "stdout",
     "output_type": "stream",
     "text": [
      "percentage of success: 24.523071906081853\n"
     ]
    }
   ],
   "source": [
    "print('percentage of success: {}'.format((np.count_nonzero(y == 1)/y.shape[0])*100))"
   ]
  },
  {
   "cell_type": "markdown",
   "id": "451803c3",
   "metadata": {},
   "source": [
    "As, we can see, our problem is an imbalanced classification problem. \n",
    "\n",
    "Next, we try some supervised machine learning classification methods. \n",
    "\n",
    "First of all, since we use logistic regression, we should check co-linearity between predictors via VIF score. \n",
    "\n",
    "Then, based on the VIF scores, columns whose VIF scores are higher than 2.6 will be removed.  "
   ]
  },
  {
   "cell_type": "code",
   "execution_count": 73,
   "id": "079b6d95",
   "metadata": {},
   "outputs": [],
   "source": [
    "def vif_truncator(X,s_tresh):\n",
    "    # Calculating VIF\n",
    "    X_dataframe=pd.DataFrame(X)\n",
    "    vif = pd.DataFrame()\n",
    "    vif[\"variables\"] = X_dataframe.columns\n",
    "    vif[\"VIF\"] = [variance_inflation_factor(X_dataframe.values, i) for i in range(X_dataframe.shape[1])]\n",
    "    # removing rows where their vif values are larger than a threshold from X\n",
    "    v_list=list(vif[vif.VIF > s_tresh].variables)\n",
    "    X=np.delete(X, [i for i in v_list], 1)\n",
    "    return(X)"
   ]
  },
  {
   "cell_type": "markdown",
   "id": "6be29d7c",
   "metadata": {},
   "source": [
    "\n",
    "To respond to the fourth question, we implement Bagging and Random Forest decision trees, logistic regression, XGBoost Random Forest, and k-nearest neighbors classifier. \n",
    "\n",
    "To evaluate our models, k-fold cross-validation is used, and our metric evaluation is f1 score."
   ]
  },
  {
   "cell_type": "code",
   "execution_count": 74,
   "id": "46f4343c",
   "metadata": {},
   "outputs": [],
   "source": [
    "# evaluate a model\n",
    "def evaluate_model(X, y, model):\n",
    "    # define evaluation procedure\n",
    "    cv = RepeatedStratifiedKFold(n_splits=5, n_repeats=1, random_state=1)\n",
    "    # evaluate model \n",
    "    scores = cross_val_score(model, X, y, scoring='f1', cv=cv, n_jobs=-1)\n",
    "    return scores"
   ]
  },
  {
   "cell_type": "code",
   "execution_count": 75,
   "id": "7cf1999d",
   "metadata": {},
   "outputs": [],
   "source": [
    "def get_models():\n",
    "    models, names = list(), list()\n",
    "    # BG\n",
    "    models.append(BaggingClassifier(n_estimators = 100,random_state = 42, n_jobs = -1))\n",
    "    names.append('BG')\n",
    "    # LR\n",
    "    models.append(LogisticRegression(solver='sag'))\n",
    "    names.append('LR')\n",
    "    # RF\n",
    "    models.append(RandomForestClassifier(n_estimators = 100, random_state = 42, n_jobs = -1))\n",
    "    names.append('RF')\n",
    "    # XG boost\n",
    "    models.append(XGBRFClassifier(n_estimators = 100,scale_pos_weight=10))\n",
    "    names.append('XGBoost')\n",
    "    # NB\n",
    "    models.append(KNeighborsClassifier())\n",
    "    names.append('KNN')\n",
    "    # Baseline\n",
    "    models.append(DummyClassifier(strategy='constant', constant=1))\n",
    "    names.append('base')\n",
    "    return models, names"
   ]
  },
  {
   "cell_type": "code",
   "execution_count": 76,
   "id": "1c1ddcba",
   "metadata": {},
   "outputs": [],
   "source": [
    "# define models\n",
    "models, names = get_models()\n",
    "results = list()"
   ]
  },
  {
   "cell_type": "code",
   "execution_count": 77,
   "id": "a656ecf9",
   "metadata": {},
   "outputs": [
    {
     "name": "stdout",
     "output_type": "stream",
     "text": [
      ">BG 0.629 (0.010)\n",
      ">LR 0.590 (0.015)\n",
      ">RF 0.634 (0.007)\n",
      ">XGBoost 0.606 (0.014)\n",
      ">KNN 0.515 (0.020)\n",
      ">base 0.394 (0.000)\n"
     ]
    },
    {
     "data": {
      "image/png": "[encoded data removed]",
      "text/plain": [
       "<Figure size 432x288 with 1 Axes>"
      ]
     },
     "metadata": {
      "needs_background": "light"
     },
     "output_type": "display_data"
    }
   ],
   "source": [
    "# evaluate each model\n",
    "for i in range(len(models)):\n",
    "    if names[i]=='LR':\n",
    "        X_truncate=vif_truncator(X,2.6)\n",
    "        scores=evaluate_model(X_truncate,y,models[i])\n",
    "        results.append(scores)\n",
    "        print('>%s %.3f (%.3f)' % (names[i], mean(scores), std(scores)))\n",
    "    else:\n",
    "        scores=evaluate_model(X,y,models[i])\n",
    "        results.append(scores)\n",
    "        print('>%s %.3f (%.3f)' % (names[i], mean(scores), std(scores)))\n",
    "# plot the results\n",
    "plt.boxplot(results, labels=names, showmeans=True)\n",
    "plt.show()"
   ]
  },
  {
   "cell_type": "markdown",
   "id": "1b8ec3a3",
   "metadata": {},
   "source": [
    "From the figure, XGBoost Random Forest, random forest and bagging decision trees show some skills compared with \n",
    "the baseline classifier (classifying all customers as successful cases, i.e., in this case, all rows of column y are one ). \n",
    "\n",
    "To improve the performance of our bagging decision trees, since our problem is an imbalanced classification problem, we leverage oversampling (increasing the number of samples of minority class) and undersampling methods (decreasing increasing the number of samples of majority class).\n",
    "\n",
    "First, we calculate feature importance in the XGboost model to see whether removing some features is necessary or not."
   ]
  },
  {
   "cell_type": "code",
   "execution_count": 9,
   "id": "a849b52b",
   "metadata": {},
   "outputs": [
    {
     "name": "stdout",
     "output_type": "stream",
     "text": [
      "Feature: 0, Score: 0.00715\n",
      "Feature: 1, Score: 0.00443\n",
      "Feature: 2, Score: 0.00195\n",
      "Feature: 3, Score: 0.00571\n",
      "Feature: 4, Score: 0.00894\n",
      "Feature: 5, Score: 0.00003\n",
      "Feature: 6, Score: 0.00383\n",
      "Feature: 7, Score: 0.00848\n",
      "Feature: 8, Score: 0.00465\n",
      "Feature: 9, Score: 0.01231\n",
      "Feature: 10, Score: 0.00252\n",
      "Feature: 11, Score: 0.00651\n",
      "Feature: 12, Score: 0.00617\n",
      "Feature: 13, Score: 0.00264\n",
      "Feature: 14, Score: 0.00740\n",
      "Feature: 15, Score: 0.00188\n",
      "Feature: 16, Score: 0.13161\n",
      "Feature: 17, Score: 0.03565\n",
      "Feature: 18, Score: 0.00541\n",
      "Feature: 19, Score: 0.00381\n",
      "Feature: 20, Score: 0.01112\n",
      "Feature: 21, Score: 0.00295\n",
      "Feature: 22, Score: 0.04720\n",
      "Feature: 23, Score: 0.00120\n",
      "Feature: 24, Score: 0.04032\n",
      "Feature: 25, Score: 0.05359\n",
      "Feature: 26, Score: 0.01292\n",
      "Feature: 27, Score: 0.02696\n",
      "Feature: 28, Score: 0.02004\n",
      "Feature: 29, Score: 0.00832\n",
      "Feature: 30, Score: 0.07168\n",
      "Feature: 31, Score: 0.03894\n",
      "Feature: 32, Score: 0.10495\n",
      "Feature: 33, Score: 0.06587\n",
      "Feature: 34, Score: 0.07893\n",
      "Feature: 35, Score: 0.15395\n"
     ]
    },
    {
     "data": {
      "image/png": "[encoded data removed]",
      "text/plain": [
       "<Figure size 432x288 with 1 Axes>"
      ]
     },
     "metadata": {
      "needs_background": "light"
     },
     "output_type": "display_data"
    }
   ],
   "source": [
    "model =XGBRFClassifier(n_estimators = 100,scale_pos_weight=10)\n",
    "sm = SMOTE(sampling_strategy=0.5,random_state=42)\n",
    "rs=RandomUnderSampler(sampling_strategy=0.4)\n",
    "X_res, y_res = sm.fit_resample(X, y)\n",
    "# fit the model\n",
    "model.fit(X_res, y_res)\n",
    "# get importance\n",
    "importance = model.feature_importances_\n",
    "# summarize feature importance\n",
    "for i,v in enumerate(importance):\n",
    "    print('Feature: %0d, Score: %.5f' % (i,v))\n",
    "# plot feature importance\n",
    "plt.bar([x for x in range(len(importance))], importance)\n",
    "plt.show()"
   ]
  },
  {
   "cell_type": "code",
   "execution_count": 11,
   "id": "c7d0ad49",
   "metadata": {},
   "outputs": [],
   "source": [
    "v_list=[]\n",
    "for i,v in enumerate(importance):\n",
    "    if v<0.025:\n",
    "        v_list.append(i)\n",
    "X=np.delete(X, v_list, 1)"
   ]
  },
  {
   "cell_type": "code",
   "execution_count": 56,
   "id": "01600449",
   "metadata": {},
   "outputs": [],
   "source": [
    "# define pipeline\n",
    "model=RandomForestClassifier(n_estimators = 100,random_state = 42, n_jobs = -1)\n",
    "over = SMOTE(sampling_strategy=0.4)\n",
    "under = RandomUnderSampler(sampling_strategy=0.8)\n",
    "steps = [('over', over), ('under', under), ('model', model)]\n",
    "pipeline = Pipeline(steps=steps)"
   ]
  },
  {
   "cell_type": "code",
   "execution_count": 57,
   "id": "52663bdc",
   "metadata": {},
   "outputs": [
    {
     "name": "stdout",
     "output_type": "stream",
     "text": [
      "Mean f1 score: 0.670\n"
     ]
    }
   ],
   "source": [
    "score=evaluate_model(X,y,pipeline)\n",
    "print('Mean f1 score: %.3f' % mean(score))"
   ]
  },
  {
   "cell_type": "markdown",
   "id": "bcf318f6",
   "metadata": {},
   "source": [
    "The result shows that we could improve the performance of our classifier.\n",
    "\n",
    "**Answer to question 4: Yes, we may use the trained predictor (based on the current dataset) to predict the answer of customers in future campaigns**"
   ]
  },
  {
   "cell_type": "code",
   "execution_count": null,
   "id": "e65b146e",
   "metadata": {},
   "outputs": [],
   "source": []
  }
 ],
 "metadata": {
  "kernelspec": {
   "display_name": "Python 3 (ipykernel)",
   "language": "python",
   "name": "python3"
  },
  "language_info": {
   "codemirror_mode": {
    "name": "ipython",
    "version": 3
   },
   "file_extension": ".py",
   "mimetype": "text/x-python",
   "name": "python",
   "nbconvert_exporter": "python",
   "pygments_lexer": "ipython3",
   "version": "3.9.12"
  }
 },
 "nbformat": 4,
 "nbformat_minor": 5
}
